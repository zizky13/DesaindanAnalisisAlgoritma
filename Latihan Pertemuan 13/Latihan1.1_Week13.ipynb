{
 "cells": [
  {
   "cell_type": "code",
   "execution_count": 57,
   "id": "initial_id",
   "metadata": {
    "collapsed": true,
    "ExecuteTime": {
     "end_time": "2023-11-27T08:49:25.355880500Z",
     "start_time": "2023-11-27T08:49:25.348770Z"
    }
   },
   "outputs": [],
   "source": [
    "#Breadth-First Search\n",
    "def bfs(graph, start):\n",
    "    visited = []\n",
    "    queue = []\n",
    "    queue = [start]\n",
    "    while queue:\n",
    "        node = queue.pop(0)\n",
    "        if node not in visited:\n",
    "            visited.append(node)\n",
    "            neighbours = graph[node]\n",
    "            for neighbour in neighbours:\n",
    "                queue.append(neighbour)\n",
    "    return visited\n"
   ]
  },
  {
   "cell_type": "code",
   "execution_count": 58,
   "outputs": [],
   "source": [
    "graph1 = {'Amin' : ['Wasim', 'Nick', 'Mike'],\n",
    "         'Wasim': ['Imran', 'Amin'],\n",
    "         'Imran': ['Wasim', 'Faras'],\n",
    "         'Faras': ['Imran'],\n",
    "         'Mike': ['Amin'],\n",
    "         'Nick':['Amin']}"
   ],
   "metadata": {
    "collapsed": false,
    "ExecuteTime": {
     "end_time": "2023-11-27T08:49:25.827105700Z",
     "start_time": "2023-11-27T08:49:25.820100200Z"
    }
   },
   "id": "d8740510cd7c4c36"
  },
  {
   "cell_type": "code",
   "execution_count": 59,
   "outputs": [],
   "source": [
    "graph2 = {0: [9, 7, 11],\n",
    "         9: [10, 8],\n",
    "         7: [11, 6, 3, 0],\n",
    "         11: [7],\n",
    "         10: [1, 9],\n",
    "         8: [9,1,12],\n",
    "         3: [7,2,4],\n",
    "         6: [7,5],\n",
    "         5: [],\n",
    "         4: [3],\n",
    "         2: [12, 3],\n",
    "         12: [8, 2],\n",
    "         1: [10,8]\n",
    "         }"
   ],
   "metadata": {
    "collapsed": false,
    "ExecuteTime": {
     "end_time": "2023-11-27T08:49:26.225212500Z",
     "start_time": "2023-11-27T08:49:26.219679900Z"
    }
   },
   "id": "ecaea0fb7d67fa1a"
  },
  {
   "cell_type": "code",
   "execution_count": 60,
   "outputs": [],
   "source": [
    "graph3 = {'Rektor': ['Warek1', 'Warek2'],\n",
    "          'Warek2': ['Kaprodi1', 'Kaprodi2', 'Kaprodi3', 'Rektor'],\n",
    "          'Kaprodi1': ['DosenA', 'DosenB', 'DosenC', 'Warek2'],\n",
    "          'Kaprodi2': ['DosenD', 'DosenE', 'Warek2'],\n",
    "          'Kaprodi3': ['DosenF', 'DosenG', 'Warek2'],\n",
    "          'DosenG':['Kaprodi3'],\n",
    "          'DosenF': ['Kaprodi3'],\n",
    "          'DosenD': ['Kaprodi2'],\n",
    "          'DosenE': ['Kaprodi2'],\n",
    "          'DosenC': ['Kaprodi1'],\n",
    "          'DosenB': ['Kaprodi1'],\n",
    "          'DosenA': ['Kaprodi1'],\n",
    "          'Warek1': ['Rektor']}\n"
   ],
   "metadata": {
    "collapsed": false,
    "ExecuteTime": {
     "end_time": "2023-11-27T08:49:26.890754500Z",
     "start_time": "2023-11-27T08:49:26.883082200Z"
    }
   },
   "id": "a749da9da745c025"
  },
  {
   "cell_type": "code",
   "execution_count": 64,
   "outputs": [],
   "source": [
    "#Depth-First Search\n",
    "def dfs(visited, graph, node):\n",
    "    if node not in visited:\n",
    "        print(node)\n",
    "        visited.add(node)\n",
    "        for neighbour in graph[node]:\n",
    "            dfs(visited, graph, neighbour)"
   ],
   "metadata": {
    "collapsed": false,
    "ExecuteTime": {
     "end_time": "2023-11-27T08:49:55.864805700Z",
     "start_time": "2023-11-27T08:49:55.854797100Z"
    }
   },
   "id": "e7e9ae81818d825b"
  },
  {
   "cell_type": "code",
   "execution_count": 65,
   "outputs": [
    {
     "name": "stdout",
     "output_type": "stream",
     "text": [
      "['Amin', 'Wasim', 'Nick', 'Mike', 'Imran', 'Faras']\n"
     ]
    }
   ],
   "source": [
    "print(bfs(graph1, 'Amin'))"
   ],
   "metadata": {
    "collapsed": false,
    "ExecuteTime": {
     "end_time": "2023-11-27T08:50:20.875616700Z",
     "start_time": "2023-11-27T08:50:20.850848500Z"
    }
   },
   "id": "f8c106d45e998abc"
  },
  {
   "cell_type": "code",
   "execution_count": 66,
   "outputs": [
    {
     "name": "stdout",
     "output_type": "stream",
     "text": [
      "Amin\n",
      "Wasim\n",
      "Imran\n",
      "Faras\n",
      "Nick\n",
      "Mike\n"
     ]
    }
   ],
   "source": [
    "visited = set()\n",
    "dfs(visited, graph1, 'Amin')"
   ],
   "metadata": {
    "collapsed": false,
    "ExecuteTime": {
     "end_time": "2023-11-27T08:50:21.293002900Z",
     "start_time": "2023-11-27T08:50:21.284941700Z"
    }
   },
   "id": "d99654919cbd6b26"
  },
  {
   "cell_type": "code",
   "execution_count": 68,
   "outputs": [
    {
     "name": "stdout",
     "output_type": "stream",
     "text": [
      "[0, 9, 7, 11, 10, 8, 6, 3, 1, 12, 5, 2, 4]\n"
     ]
    }
   ],
   "source": [
    "print(bfs(graph2, 0))"
   ],
   "metadata": {
    "collapsed": false,
    "ExecuteTime": {
     "end_time": "2023-11-27T08:51:09.661523300Z",
     "start_time": "2023-11-27T08:51:09.652676800Z"
    }
   },
   "id": "a84b777121dd8fd"
  },
  {
   "cell_type": "code",
   "execution_count": 69,
   "outputs": [
    {
     "name": "stdout",
     "output_type": "stream",
     "text": [
      "0\n",
      "9\n",
      "10\n",
      "1\n",
      "8\n",
      "12\n",
      "2\n",
      "3\n",
      "7\n",
      "11\n",
      "6\n",
      "5\n",
      "4\n"
     ]
    }
   ],
   "source": [
    "visited = set()\n",
    "dfs(visited, graph2, 0)"
   ],
   "metadata": {
    "collapsed": false,
    "ExecuteTime": {
     "end_time": "2023-11-27T08:51:10.132412200Z",
     "start_time": "2023-11-27T08:51:10.125228700Z"
    }
   },
   "id": "fd96e4b3f50f8202"
  },
  {
   "cell_type": "code",
   "execution_count": 70,
   "outputs": [
    {
     "name": "stdout",
     "output_type": "stream",
     "text": [
      "['Rektor', 'Warek1', 'Warek2', 'Kaprodi1', 'Kaprodi2', 'Kaprodi3', 'DosenA', 'DosenB', 'DosenC', 'DosenD', 'DosenE', 'DosenF', 'DosenG']\n"
     ]
    }
   ],
   "source": [
    "print(bfs(graph3, 'Rektor'))"
   ],
   "metadata": {
    "collapsed": false,
    "ExecuteTime": {
     "end_time": "2023-11-27T08:51:25.486141700Z",
     "start_time": "2023-11-27T08:51:25.469188600Z"
    }
   },
   "id": "3b84c5fafcb66964"
  },
  {
   "cell_type": "code",
   "execution_count": 71,
   "outputs": [
    {
     "name": "stdout",
     "output_type": "stream",
     "text": [
      "Rektor\n",
      "Warek1\n",
      "Warek2\n",
      "Kaprodi1\n",
      "DosenA\n",
      "DosenB\n",
      "DosenC\n",
      "Kaprodi2\n",
      "DosenD\n",
      "DosenE\n",
      "Kaprodi3\n",
      "DosenF\n",
      "DosenG\n"
     ]
    }
   ],
   "source": [
    "visited = set()\n",
    "dfs(visited, graph3, 'Rektor')"
   ],
   "metadata": {
    "collapsed": false,
    "ExecuteTime": {
     "end_time": "2023-11-27T08:51:33.015856300Z",
     "start_time": "2023-11-27T08:51:33.009234700Z"
    }
   },
   "id": "94dfc4f7c7485470"
  },
  {
   "cell_type": "code",
   "execution_count": null,
   "outputs": [],
   "source": [],
   "metadata": {
    "collapsed": false
   },
   "id": "986e672e1ced3e51"
  }
 ],
 "metadata": {
  "kernelspec": {
   "display_name": "Python 3",
   "language": "python",
   "name": "python3"
  },
  "language_info": {
   "codemirror_mode": {
    "name": "ipython",
    "version": 2
   },
   "file_extension": ".py",
   "mimetype": "text/x-python",
   "name": "python",
   "nbconvert_exporter": "python",
   "pygments_lexer": "ipython2",
   "version": "2.7.6"
  }
 },
 "nbformat": 4,
 "nbformat_minor": 5
}
